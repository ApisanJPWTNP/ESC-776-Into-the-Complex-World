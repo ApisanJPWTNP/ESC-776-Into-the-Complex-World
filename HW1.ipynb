{
  "nbformat": 4,
  "nbformat_minor": 0,
  "metadata": {
    "colab": {
      "provenance": []
    },
    "kernelspec": {
      "name": "python3",
      "display_name": "Python 3"
    },
    "language_info": {
      "name": "python"
    }
  },
  "cells": [
    {
      "cell_type": "code",
      "source": [
        "import numpy as np\n",
        "from numpy import random\n",
        "import matplotlib.pyplot as plt"
      ],
      "metadata": {
        "id": "2N4vlUVe1Twp"
      },
      "execution_count": null,
      "outputs": []
    },
    {
      "cell_type": "code",
      "source": [
        "class dice_score:\n",
        "    def __init__(self,a,b,c):\n",
        "        self.a=a\n",
        "        self.b=b\n",
        "        self.c=c\n",
        "    def score_same(self):\n",
        "        if self.a==self.b and self.b==self.c:\n",
        "            return 1\n",
        "        else:\n",
        "            return 0\n",
        "    def score_sort(self):\n",
        "        l=[self.a,self.b,self.c]\n",
        "        l.sort()\n",
        "        if l[2]-l[1]==1 and l[1]-l[0]==1:\n",
        "            return 1\n",
        "        else:\n",
        "            return 0"
      ],
      "metadata": {
        "id": "_6jtWp08_AwI"
      },
      "execution_count": null,
      "outputs": []
    },
    {
      "cell_type": "code",
      "source": [
        "money_list,expectedvalue_list,index=[],[],[]\n",
        "money=0\n",
        "for i in range(100000):\n",
        "    ex=0\n",
        "    a,b,c=random.randint(1,7),random.randint(1,7),random.randint(1,7)\n",
        "    x=dice_score(a,b,c)\n",
        "    index.append(i+1)\n",
        "    money-=1\n",
        "    money+=12*x.score_same()\n",
        "    money+=6*x.score_sort()\n",
        "    ex=money/(i+1)\n",
        "    money_list.append(money)\n",
        "    expectedvalue_list.append(ex)"
      ],
      "metadata": {
        "id": "9-qC_qoXAhfV"
      },
      "execution_count": null,
      "outputs": []
    },
    {
      "cell_type": "code",
      "source": [
        "plt.plot(index,expectedvalue_list)"
      ],
      "metadata": {
        "colab": {
          "base_uri": "https://localhost:8080/",
          "height": 282
        },
        "id": "6tGD_7ojB-iX",
        "outputId": "5d56fe29-6653-4e18-f542-b0f3cf21c886"
      },
      "execution_count": null,
      "outputs": [
        {
          "output_type": "execute_result",
          "data": {
            "text/plain": [
              "[<matplotlib.lines.Line2D at 0x7f14fdda3590>]"
            ]
          },
          "metadata": {},
          "execution_count": 81
        },
        {
          "output_type": "display_data",
          "data": {
            "text/plain": [
              "<Figure size 432x288 with 1 Axes>"
            ],
            "image/png": "[encoded data removed]"
          },
          "metadata": {
            "needs_background": "light"
          }
        }
      ]
    },
    {
      "cell_type": "code",
      "source": [
        "plt.plot(index,money_list)"
      ],
      "metadata": {
        "colab": {
          "base_uri": "https://localhost:8080/",
          "height": 282
        },
        "id": "3J68qr32CYVh",
        "outputId": "3fce5ff8-af39-43d1-c919-3ed8edbea47b"
      },
      "execution_count": null,
      "outputs": [
        {
          "output_type": "execute_result",
          "data": {
            "text/plain": [
              "[<matplotlib.lines.Line2D at 0x7f1500ce6d50>]"
            ]
          },
          "metadata": {},
          "execution_count": 82
        },
        {
          "output_type": "display_data",
          "data": {
            "text/plain": [
              "<Figure size 432x288 with 1 Axes>"
            ],
            "image/png": "[encoded data removed]"
          },
          "metadata": {
            "needs_background": "light"
          }
        }
      ]
    }
  ]
}